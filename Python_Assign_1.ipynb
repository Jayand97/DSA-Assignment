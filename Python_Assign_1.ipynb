{
  "nbformat": 4,
  "nbformat_minor": 0,
  "metadata": {
    "colab": {
      "provenance": [],
      "toc_visible": true
    },
    "kernelspec": {
      "name": "python3",
      "display_name": "Python 3"
    },
    "language_info": {
      "name": "python"
    }
  },
  "cells": [
    {
      "cell_type": "code",
      "source": [
        "# Circle Area with radius\n",
        "\n",
        "r = int(input('Enter a number: '))\n",
        "pi= 3.14\n",
        "print(\"Radius is :\", r)\n",
        "ar = pi*r*r\n",
        "print(\" Area of circle is :\",ar )"
      ],
      "metadata": {
        "colab": {
          "base_uri": "https://localhost:8080/"
        },
        "id": "OvWlEFLLXfvx",
        "outputId": "5eeed3d9-f013-4515-b366-3f2151a3be66"
      },
      "execution_count": null,
      "outputs": [
        {
          "output_type": "stream",
          "name": "stdout",
          "text": [
            "Enter a number: 3\n",
            "Radius is : 3\n",
            " Area of circle is : 28.259999999999998\n"
          ]
        }
      ]
    },
    {
      "cell_type": "code",
      "source": [
        "# Student\n",
        "name= input(\"Enter the name :\")\n",
        "roll = int(input(\"Enter the roll number:\"))\n",
        "mark = int(input(\"Enter the marks:\"))\n",
        "\n",
        "print(\"Name\",name)\n",
        "print(\"Roll No:\",roll)\n",
        "print(\"Mark:\",mark)"
      ],
      "metadata": {
        "colab": {
          "base_uri": "https://localhost:8080/"
        },
        "id": "7Y5iagQYXwgs",
        "outputId": "d467a3a9-b13f-4d06-d2f5-4a9e48b0d71d"
      },
      "execution_count": null,
      "outputs": [
        {
          "output_type": "stream",
          "name": "stdout",
          "text": [
            "Enter the nameAnisha\n",
            "Enter the roll number:21\n",
            "Enter the marks:78\n",
            "Name Anisha\n",
            "Roll No: 21\n",
            "Mark: 78\n"
          ]
        }
      ]
    },
    {
      "cell_type": "code",
      "source": [
        "num_list= []\n",
        "for i in range(5):\n",
        "  num = int(input(\"Enter the numbers :\"))\n",
        "  num_list.append(num)\n",
        "num_list.sort()\n",
        "print(num_list[-1],\"is the largest element\")\n"
      ],
      "metadata": {
        "colab": {
          "base_uri": "https://localhost:8080/"
        },
        "id": "z-Kl6fhrbfkY",
        "outputId": "f72bcdfe-ba49-441c-8133-8cac8c8a68a1"
      },
      "execution_count": null,
      "outputs": [
        {
          "output_type": "stream",
          "name": "stdout",
          "text": [
            "Enter the numbers :12\n",
            "Enter the numbers :3\n",
            "Enter the numbers :47\n",
            "Enter the numbers :10\n",
            "Enter the numbers :30\n",
            "47 is the largest element\n"
          ]
        }
      ]
    },
    {
      "cell_type": "code",
      "source": [
        "previous_num = 0\n",
        "for i in range(10):\n",
        "    sum = previous_num + i\n",
        "    print(f'Current number {i} Previous Number {previous_num} is and Sum is  {sum}')\n",
        "    previous_num = i"
      ],
      "metadata": {
        "colab": {
          "base_uri": "https://localhost:8080/"
        },
        "id": "th54H0-yc3AI",
        "outputId": "0f13f345-be70-4aed-d285-6f3d672ad589"
      },
      "execution_count": null,
      "outputs": [
        {
          "output_type": "stream",
          "name": "stdout",
          "text": [
            "Current number 0 Previous Number 0 is and Sum is  0\n",
            "Current number 1 Previous Number 0 is and Sum is  1\n",
            "Current number 2 Previous Number 1 is and Sum is  3\n",
            "Current number 3 Previous Number 2 is and Sum is  5\n",
            "Current number 4 Previous Number 3 is and Sum is  7\n",
            "Current number 5 Previous Number 4 is and Sum is  9\n",
            "Current number 6 Previous Number 5 is and Sum is  11\n",
            "Current number 7 Previous Number 6 is and Sum is  13\n",
            "Current number 8 Previous Number 7 is and Sum is  15\n",
            "Current number 9 Previous Number 8 is and Sum is  17\n"
          ]
        }
      ]
    },
    {
      "cell_type": "code",
      "source": [
        "num_list= []\n",
        "for i in range(5):\n",
        "  num = int(input(\"Enter the numbers :\"))\n",
        "  num_list.append(num)\n",
        "for num in num_list:\n",
        "  if num % 5==0:\n",
        "    print(num)\n",
        "\n"
      ],
      "metadata": {
        "colab": {
          "base_uri": "https://localhost:8080/"
        },
        "id": "CrTqCb6PepxZ",
        "outputId": "d5f70b0f-1bbd-467c-a37b-5c5875c54b7e"
      },
      "execution_count": null,
      "outputs": [
        {
          "output_type": "stream",
          "name": "stdout",
          "text": [
            "Enter the numbers :10\n",
            "Enter the numbers :20\n",
            "Enter the numbers :33\n",
            "Enter the numbers :46\n",
            "Enter the numbers :55\n",
            "10\n",
            "20\n",
            "55\n"
          ]
        }
      ]
    },
    {
      "cell_type": "code",
      "source": [
        "n =int(input(\"Enter the number :\"))\n",
        "\n",
        "flag = False\n",
        "if n ==1:\n",
        "  print(n,\"is not prime\")\n",
        "elif num >1:\n",
        "  for i in range(2,n):\n",
        "    if(n % i) == 0:\n",
        "      flag = True\n",
        "      break\n",
        "  if flag:\n",
        "    print(n,\"is not prime\")\n",
        "  else:\n",
        "    print(n, \"is prime\")\n",
        "\n",
        "\n"
      ],
      "metadata": {
        "colab": {
          "base_uri": "https://localhost:8080/"
        },
        "id": "Kzw5ZdzTfsr-",
        "outputId": "ddd98ac4-9a6c-46fc-f78d-e985df537047"
      },
      "execution_count": null,
      "outputs": [
        {
          "output_type": "stream",
          "name": "stdout",
          "text": [
            "Enter the number :3\n",
            "3 is prime\n"
          ]
        }
      ]
    },
    {
      "cell_type": "code",
      "source": [
        "lst= []\n",
        "for i in range(4):\n",
        "  num = int(input(\"Enter the numbers :\"))\n",
        "  lst.append(num)\n",
        "l1 = []\n",
        "for i in lst:\n",
        "  l1.insert(0,i)\n",
        "print(l1)"
      ],
      "metadata": {
        "colab": {
          "base_uri": "https://localhost:8080/"
        },
        "id": "vZQwHzlVi-5n",
        "outputId": "d256f0ef-970d-4cc2-c3bc-231c418d3601"
      },
      "execution_count": null,
      "outputs": [
        {
          "output_type": "stream",
          "name": "stdout",
          "text": [
            "Enter the numbers :10\n",
            "Enter the numbers :40\n",
            "Enter the numbers :30\n",
            "Enter the numbers :70\n",
            "[70, 30, 40, 10]\n"
          ]
        }
      ]
    },
    {
      "cell_type": "code",
      "source": [
        "num_list= []\n",
        "for i in range(3):\n",
        "  num = int(input(\"Enter the numbers :\"))\n",
        "  num_list.append(num)\n",
        "  num_list.sort()\n",
        "print(\"Larger number is\",num_list[-1])"
      ],
      "metadata": {
        "colab": {
          "base_uri": "https://localhost:8080/"
        },
        "id": "ElRfN8nrm8VP",
        "outputId": "ceda8cd5-85d2-4954-84bf-829385283826"
      },
      "execution_count": null,
      "outputs": [
        {
          "output_type": "stream",
          "name": "stdout",
          "text": [
            "Enter the numbers :34\n",
            "Enter the numbers :12\n",
            "Enter the numbers :7\n",
            "Larger number is 34\n"
          ]
        }
      ]
    },
    {
      "cell_type": "code",
      "source": [
        "rows = int(input(\"Enter number of rows: \"))\n",
        "\n",
        "for i in range(0, rows):\n",
        "    for j in range(0, i + 1):\n",
        "        print(\"*\", end=' ')\n",
        "    print(\" \")\n"
      ],
      "metadata": {
        "colab": {
          "base_uri": "https://localhost:8080/"
        },
        "id": "azkeem4mqxlg",
        "outputId": "38d3a3fb-2586-43dd-aa5f-c5123bf29f77"
      },
      "execution_count": null,
      "outputs": [
        {
          "output_type": "stream",
          "name": "stdout",
          "text": [
            "Enter number of rows: 4\n",
            "*  \n",
            "* *  \n",
            "* * *  \n",
            "* * * *  \n"
          ]
        }
      ]
    },
    {
      "cell_type": "code",
      "source": [
        "\n",
        "rows = int(input(\"Enter the number of rows for the first pyramid: \"))\n",
        "for i in range(0, rows):\n",
        "    for j in range(0, i + 1):\n",
        "        print(\"*\", end=' ')\n",
        "    print(\" \")\n",
        "    print(\" \")\n",
        "\n",
        "\n",
        "for i in range(rows, 0, -1):\n",
        "    for j in range(0, i ):\n",
        "        print(\"*\", end=' ')\n",
        "    print(\" \")\n",
        "    print(\" \")\n"
      ],
      "metadata": {
        "colab": {
          "base_uri": "https://localhost:8080/"
        },
        "id": "zti9SWGYyN6Q",
        "outputId": "6a528713-dace-4eb9-dd92-1be47a03ceff"
      },
      "execution_count": null,
      "outputs": [
        {
          "output_type": "stream",
          "name": "stdout",
          "text": [
            "Enter the number of rows for the first pyramid: 4\n",
            "*  \n",
            " \n",
            "* *  \n",
            " \n",
            "* * *  \n",
            " \n",
            "* * * *  \n",
            " \n",
            "* * * *  \n",
            " \n",
            "* * *  \n",
            " \n",
            "* *  \n",
            " \n",
            "*  \n",
            " \n"
          ]
        }
      ]
    },
    {
      "cell_type": "code",
      "source": [
        "fname = input(\"Enter First Name:\")\n",
        "lname = input(\"Enter Last Name:\")\n",
        "print(f'Hello {fname} {lname}.! You just logged into Python.')\n"
      ],
      "metadata": {
        "id": "R823Dk7Rz7jv",
        "colab": {
          "base_uri": "https://localhost:8080/"
        },
        "outputId": "76a2662d-329e-4b21-8c6f-478d0b65a6cd"
      },
      "execution_count": null,
      "outputs": [
        {
          "output_type": "stream",
          "name": "stdout",
          "text": [
            "Enter First Name:John\n",
            "Enter Last Name:Wick\n",
            "Hello John Wick.! You just logged into Python.\n"
          ]
        }
      ]
    },
    {
      "cell_type": "code",
      "source": [],
      "metadata": {
        "id": "ZX1lC2049IJo"
      },
      "execution_count": null,
      "outputs": []
    }
  ]
}