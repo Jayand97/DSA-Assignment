{
  "nbformat": 4,
  "nbformat_minor": 0,
  "metadata": {
    "colab": {
      "provenance": []
    },
    "kernelspec": {
      "name": "python3",
      "display_name": "Python 3"
    },
    "language_info": {
      "name": "python"
    }
  },
  "cells": [
    {
      "cell_type": "code",
      "execution_count": null,
      "metadata": {
        "colab": {
          "base_uri": "https://localhost:8080/"
        },
        "id": "_DSXi0je2B9f",
        "outputId": "61bf59b1-9440-43c9-ca28-3659883d73a3"
      },
      "outputs": [
        {
          "output_type": "stream",
          "name": "stdout",
          "text": [
            "Enter the string :assembly\n",
            " Count of letters are: {'a': 1, 's': 2, 'e': 1, 'm': 1, 'b': 1, 'l': 1, 'y': 1}\n"
          ]
        }
      ],
      "source": [
        "test= input(\"Enter the string :\")\n",
        "\n",
        "all_freq = {}\n",
        "\n",
        "for i in test:\n",
        "  if i in all_freq:\n",
        "    all_freq[i] += 1\n",
        "  else:\n",
        "    all_freq[i] =1\n",
        "print(\" Count of letters are:\",(all_freq))\n",
        "\n",
        "\n",
        "\n",
        "\n"
      ]
    },
    {
      "cell_type": "code",
      "source": [
        "num_list= []\n",
        "for i in range(3):\n",
        "  num = int(input(\"Enter the numbers :\"))\n",
        "  num_list.append(num)\n",
        "num_list.sort()\n",
        "print(num_list[-1],\"is the largest element\")"
      ],
      "metadata": {
        "colab": {
          "base_uri": "https://localhost:8080/"
        },
        "id": "xE-gtOij2dRz",
        "outputId": "0f123c6d-b674-4eee-e0a7-dbfd23942950"
      },
      "execution_count": null,
      "outputs": [
        {
          "output_type": "stream",
          "name": "stdout",
          "text": [
            "Enter the numbers :34\n",
            "Enter the numbers :12\n",
            "Enter the numbers :7\n",
            "34 is the largest element\n"
          ]
        }
      ]
    },
    {
      "cell_type": "code",
      "source": [
        "base = int(input(\"Enter the base number: \"))\n",
        "exponent = int(input(\"Enter the exponent: \"))\n",
        "\n",
        "result = 1\n",
        "for i in range(exponent):\n",
        "    result *= base\n",
        "\n",
        "print(f\"{base} raised to the power of {exponent} is: {result}\")\n"
      ],
      "metadata": {
        "colab": {
          "base_uri": "https://localhost:8080/"
        },
        "id": "AzyGm1CL7Tc3",
        "outputId": "2664ffec-c55c-4cfe-901c-f9446dfc5e66"
      },
      "execution_count": null,
      "outputs": [
        {
          "output_type": "stream",
          "name": "stdout",
          "text": [
            "Enter the base number: 2\n",
            "Enter the exponent: 3\n",
            "2 raised to the power of 3 is: 8\n"
          ]
        }
      ]
    },
    {
      "cell_type": "code",
      "source": [
        "def sum_of_cubes(n):\n",
        "\n",
        "  sum = 0\n",
        "  for i in range(1, n):\n",
        "    sum += i**3\n",
        "  return sum\n",
        "\n",
        "\n",
        "n = int(input(\"Enter the number: \"))\n",
        "print(f\"The sum of cubes of numbers smaller than {n} is: {sum_of_cubes(n)}\")\n"
      ],
      "metadata": {
        "colab": {
          "base_uri": "https://localhost:8080/"
        },
        "id": "Ho18K9s37osm",
        "outputId": "9ed95874-ba83-4b9d-bcdc-37979344db08"
      },
      "execution_count": null,
      "outputs": [
        {
          "output_type": "stream",
          "name": "stdout",
          "text": [
            "Enter the number: 4\n",
            "The sum of cubes of numbers smaller than 4 is: 36\n"
          ]
        }
      ]
    },
    {
      "cell_type": "code",
      "source": [
        "for i in range(1, 11):\n",
        "  if i % 2 == 0 and i % 5 == 0:\n",
        "    print(\"fizzbuzz\")\n",
        "  elif i % 2 == 0:\n",
        "    print(\"fizz\")\n",
        "  elif i % 5 == 0:\n",
        "    print(\"buzz\")\n",
        "  else:\n",
        "    print(i)\n"
      ],
      "metadata": {
        "colab": {
          "base_uri": "https://localhost:8080/"
        },
        "id": "du6EdaGl8D4t",
        "outputId": "652bc153-65bc-4514-babe-532300df2e9c"
      },
      "execution_count": null,
      "outputs": [
        {
          "output_type": "stream",
          "name": "stdout",
          "text": [
            "1\n",
            "fizz\n",
            "3\n",
            "fizz\n",
            "buzz\n",
            "fizz\n",
            "7\n",
            "fizz\n",
            "9\n",
            "fizzbuzz\n"
          ]
        }
      ]
    },
    {
      "cell_type": "code",
      "source": [
        "def most_frequent(list1):\n",
        "  count = 0\n",
        "  most_frequent_item = None\n",
        "\n",
        "  for item in list1:\n",
        "    current_frequency = list1.count(item)\n",
        "    if current_frequency > count:\n",
        "      count = current_frequency\n",
        "      most_frequent_item = item\n",
        "\n",
        "  return most_frequent_item\n",
        "\n",
        "list1= []\n",
        "for i in range(6):\n",
        "  num = int(input(\"Enter the numbers :\"))\n",
        "  list1.append(num)\n",
        "\n",
        "print(f\"Most frequent item in the list is: {most_frequent(list1)}\")\n"
      ],
      "metadata": {
        "colab": {
          "base_uri": "https://localhost:8080/"
        },
        "id": "pdgrHnBb8z-G",
        "outputId": "0eb26ea6-9c03-49f1-d44e-901b686f7964"
      },
      "execution_count": null,
      "outputs": [
        {
          "output_type": "stream",
          "name": "stdout",
          "text": [
            "Enter the numbers :2\n",
            "Enter the numbers :3\n",
            "Enter the numbers :4\n",
            "Enter the numbers :2\n",
            "Enter the numbers :5\n",
            "Enter the numbers :2\n",
            "Most frequent item in the list is: 2\n"
          ]
        }
      ]
    },
    {
      "cell_type": "code",
      "source": [
        "num_list= []\n",
        "for i in range(4):\n",
        "  num = int(input(\"Enter the numbers :\"))\n",
        "  num_list.append(num)\n",
        "\n",
        "sum_of_squares = 0\n",
        "for num in num_list:\n",
        "  sum_of_squares += num**2\n",
        "\n",
        "print(f\"Sum of squares of numbers in the list is: {sum_of_squares}\")\n"
      ],
      "metadata": {
        "colab": {
          "base_uri": "https://localhost:8080/"
        },
        "id": "RELGk-tL9h_4",
        "outputId": "84abb5af-d8eb-499d-a255-1ab0c1463a56"
      },
      "execution_count": null,
      "outputs": [
        {
          "output_type": "stream",
          "name": "stdout",
          "text": [
            "Enter the numbers :2\n",
            "Enter the numbers :1\n",
            "Enter the numbers :3\n",
            "Enter the numbers :1\n",
            "Sum of squares of numbers in the list is: 15\n"
          ]
        }
      ]
    },
    {
      "cell_type": "code",
      "source": [
        "for i in range(1, 16):\n",
        "  if i % 2 == 0:\n",
        "    print(f\"{i} is even.\")\n",
        "  else:\n",
        "    print(f\"{i} is odd.\")\n"
      ],
      "metadata": {
        "colab": {
          "base_uri": "https://localhost:8080/"
        },
        "id": "5-AJQApc-DUa",
        "outputId": "81a340ef-44c2-4692-aedd-e760363556d1"
      },
      "execution_count": null,
      "outputs": [
        {
          "output_type": "stream",
          "name": "stdout",
          "text": [
            "1 is odd.\n",
            "2 is even.\n",
            "3 is odd.\n",
            "4 is even.\n",
            "5 is odd.\n",
            "6 is even.\n",
            "7 is odd.\n",
            "8 is even.\n",
            "9 is odd.\n",
            "10 is even.\n",
            "11 is odd.\n",
            "12 is even.\n",
            "13 is odd.\n",
            "14 is even.\n",
            "15 is odd.\n"
          ]
        }
      ]
    },
    {
      "cell_type": "code",
      "source": [
        "def farenheit_to_celsius(f):\n",
        "  return (5/9) * (f - 32)\n",
        "\n",
        "f = float(input(\"Enter the temperature in Fahrenheit: \"))\n",
        "\n",
        "c = farenheit_to_celsius(f)\n",
        "\n",
        "print(f\"Temperature in Celsius: {c}\")\n"
      ],
      "metadata": {
        "colab": {
          "base_uri": "https://localhost:8080/"
        },
        "id": "xQoLQ7r_-vIH",
        "outputId": "49ef427a-20fa-4e6a-b08c-0bb1da264fed"
      },
      "execution_count": null,
      "outputs": [
        {
          "output_type": "stream",
          "name": "stdout",
          "text": [
            "Enter the temperature in Fahrenheit: 41\n",
            "Temperature in Celsius: 5.0\n"
          ]
        }
      ]
    },
    {
      "cell_type": "code",
      "source": [
        "num = int(input(\"Enter a number: \"))\n",
        "\n",
        "factorial = 1\n",
        "\n",
        "if num < 0:\n",
        "   print(\"Factorial does not exist for negative numbers\")\n",
        "elif num == 0:\n",
        "   print(\"The factorial of 0 is 1\")\n",
        "else:\n",
        "   for i in range(1,num + 1):\n",
        "       factorial = factorial*i\n",
        "   print(f\"The factorial of {num} is: {factorial}\")\n"
      ],
      "metadata": {
        "colab": {
          "base_uri": "https://localhost:8080/"
        },
        "id": "8qyXEusg_GIB",
        "outputId": "ffa7127a-8420-4eb1-f60e-490eaa6cdf36"
      },
      "execution_count": null,
      "outputs": [
        {
          "output_type": "stream",
          "name": "stdout",
          "text": [
            "Enter a number: -2\n",
            "Factorial does not exist for negative numbers\n"
          ]
        }
      ]
    },
    {
      "cell_type": "code",
      "source": [
        "num = int(input(\"Enter the integer:\"))\n",
        "\n",
        "if num % 2==0 & 2>num>5 :\n",
        "  print(\"Even\")\n",
        "else:\n",
        "  print(\"Weird\")"
      ],
      "metadata": {
        "id": "g2JxD6qm_3s0",
        "colab": {
          "base_uri": "https://localhost:8080/"
        },
        "outputId": "755806da-351c-470c-9ff3-35eb181cbd12"
      },
      "execution_count": null,
      "outputs": [
        {
          "output_type": "stream",
          "name": "stdout",
          "text": [
            "Enter the integer:3\n",
            "Weird\n"
          ]
        }
      ]
    },
    {
      "cell_type": "code",
      "source": [
        "n = int(input(\"Enter the integer:\"))\n",
        "\n",
        "if n % 2 != 0:\n",
        "  print(\"Weird\")\n",
        "elif n % 2 == 0 and 2 <= n <= 5:\n",
        "  print(\"Not Weird\")\n",
        "elif n % 2 == 0 and 6 <= n <= 20:\n",
        "  print(\"Weird\")\n",
        "elif n % 2 == 0 and n > 20:\n",
        "  print(\"Not Weirde\")\n"
      ],
      "metadata": {
        "colab": {
          "base_uri": "https://localhost:8080/"
        },
        "id": "8z8Esagg--LT",
        "outputId": "0a18eb50-87ad-4e13-dce3-18cadc6cd201"
      },
      "execution_count": null,
      "outputs": [
        {
          "output_type": "stream",
          "name": "stdout",
          "text": [
            "Enter the integer:16\n",
            "Weird\n"
          ]
        }
      ]
    },
    {
      "cell_type": "code",
      "source": [],
      "metadata": {
        "id": "DZv_yhTTFwUx"
      },
      "execution_count": null,
      "outputs": []
    }
  ]
}